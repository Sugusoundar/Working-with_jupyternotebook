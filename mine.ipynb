{
 "cells": [
  {
   "cell_type": "code",
   "execution_count": 9,
   "id": "656f643b",
   "metadata": {},
   "outputs": [],
   "source": [
    "import numpy as np"
   ]
  },
  {
   "cell_type": "code",
   "execution_count": 7,
   "id": "2579d2ea",
   "metadata": {},
   "outputs": [
    {
     "name": "stdout",
     "output_type": "stream",
     "text": [
      "Array: [1 2 3 4 5]\n"
     ]
    }
   ],
   "source": [
    "arr=np.array([1,2,3,4,5])\n",
    "print(\"Array:\",arr)"
   ]
  },
  {
   "cell_type": "code",
   "execution_count": 11,
   "id": "7058bc14",
   "metadata": {},
   "outputs": [
    {
     "name": "stdout",
     "output_type": "stream",
     "text": [
      "2D array: [[ 1  2  3  4  5]\n",
      " [ 6  7  8  9 10]]\n"
     ]
    }
   ],
   "source": [
    "arr1=np.array([[1,2,3,4,5],[6,7,8,9,10]])\n",
    "print(\"2D array:\",arr1)"
   ]
  },
  {
   "cell_type": "code",
   "execution_count": 13,
   "id": "c862618d",
   "metadata": {},
   "outputs": [
    {
     "name": "stdout",
     "output_type": "stream",
     "text": [
      "First Element: 1\n",
      "Last Element: 5\n"
     ]
    }
   ],
   "source": [
    "# indexing\n",
    "print(\"First Element:\",arr[0])\n",
    "print(\"Last Element:\",arr[-1])"
   ]
  },
  {
   "cell_type": "code",
   "execution_count": 14,
   "id": "40f76198",
   "metadata": {},
   "outputs": [
    {
     "name": "stdout",
     "output_type": "stream",
     "text": [
      "Elements at indices 0,2,4: [1 3 5]\n"
     ]
    }
   ],
   "source": [
    "# advanced indexing\n",
    "indices =np.array([0,2,4])\n",
    "print(\"Elements at indices 0,2,4:\",arr[indices])"
   ]
  },
  {
   "cell_type": "code",
   "execution_count": 15,
   "id": "941ffde2",
   "metadata": {},
   "outputs": [
    {
     "name": "stdout",
     "output_type": "stream",
     "text": [
      "After updating: [45  2  3  4  5]\n"
     ]
    }
   ],
   "source": [
    "# update values\n",
    "arr[0]=45\n",
    "print(\"After updating:\",arr)"
   ]
  },
  {
   "cell_type": "code",
   "execution_count": 17,
   "id": "7c8aac1e",
   "metadata": {},
   "outputs": [
    {
     "name": "stdout",
     "output_type": "stream",
     "text": [
      "Slicing array: [45  3  5]\n"
     ]
    }
   ],
   "source": [
    "#slicing\n",
    "print(\"Slicing array:\",arr[0:5:2])"
   ]
  },
  {
   "cell_type": "code",
   "execution_count": 19,
   "id": "3173c2bd",
   "metadata": {},
   "outputs": [
    {
     "name": "stdout",
     "output_type": "stream",
     "text": [
      "Array1: [45  2  3  4  5]\n",
      "Array2: [ 6  7  8  9 10]\n"
     ]
    }
   ],
   "source": [
    "# Basic operations\n",
    "print(\"Array1:\",arr)\n",
    "arr2=np.array([6,7,8,9,10])\n",
    "print(\"Array2:\",arr2)"
   ]
  },
  {
   "cell_type": "code",
   "execution_count": 20,
   "id": "d19e5d88",
   "metadata": {},
   "outputs": [
    {
     "name": "stdout",
     "output_type": "stream",
     "text": [
      "Add: [51  9 11 13 15]\n"
     ]
    }
   ],
   "source": [
    "#addition\n",
    "print(\"Add:\",arr+arr2)"
   ]
  },
  {
   "cell_type": "code",
   "execution_count": 21,
   "id": "7ae3cc31",
   "metadata": {},
   "outputs": [
    {
     "name": "stdout",
     "output_type": "stream",
     "text": [
      "Sub: [39 -5 -5 -5 -5]\n"
     ]
    }
   ],
   "source": [
    "#subtraction\n",
    "print(\"Sub:\",arr-arr2)"
   ]
  },
  {
   "cell_type": "code",
   "execution_count": 22,
   "id": "24aefe3b",
   "metadata": {},
   "outputs": [
    {
     "name": "stdout",
     "output_type": "stream",
     "text": [
      "mul: [270  14  24  36  50]\n"
     ]
    }
   ],
   "source": [
    "#multiplication\n",
    "print(\"mul:\",arr*arr2)"
   ]
  },
  {
   "cell_type": "code",
   "execution_count": 23,
   "id": "2a2d3e9b",
   "metadata": {},
   "outputs": [
    {
     "name": "stdout",
     "output_type": "stream",
     "text": [
      "Div: [7.5        0.28571429 0.375      0.44444444 0.5       ]\n"
     ]
    }
   ],
   "source": [
    "#division\n",
    "print(\"Div:\",arr/arr2)"
   ]
  },
  {
   "cell_type": "code",
   "execution_count": null,
   "id": "f23cbc20",
   "metadata": {},
   "outputs": [],
   "source": [
    "# working with pandas library"
   ]
  },
  {
   "cell_type": "code",
   "execution_count": 3,
   "id": "7baf6746",
   "metadata": {},
   "outputs": [],
   "source": [
    "import pandas as pd"
   ]
  },
  {
   "cell_type": "code",
   "execution_count": 6,
   "id": "0e81b385",
   "metadata": {},
   "outputs": [
    {
     "data": {
      "text/plain": [
       "{'Name': ['Sugu', 'Maara', 'Deepa', 'Lakshmi'],\n",
       " 'Age': [21, 45, 21, 30],\n",
       " 'Gender': ['M', 'M', 'F', 'F'],\n",
       " 'Salary': [50000, 20000, 40000, 10000]}"
      ]
     },
     "execution_count": 6,
     "metadata": {},
     "output_type": "execute_result"
    }
   ],
   "source": [
    "data={\n",
    "    \"Name\":[\"Sugu\",\"Maara\",\"Deepa\",\"Lakshmi\"],\n",
    "    \"Age\":[21,45,21,30],\n",
    "    \"Gender\":['M','M','F','F'],\n",
    "    \"Salary\":[50000,20000,40000,10000]\n",
    "}\n",
    "df=pd.DataFrame(data)\n",
    "data"
   ]
  },
  {
   "cell_type": "code",
   "execution_count": 32,
   "id": "cd82f1e2",
   "metadata": {},
   "outputs": [
    {
     "name": "stdout",
     "output_type": "stream",
     "text": [
      "After filtering:\n",
      "      Name  Age Gender  Salary\n",
      "1    Maara   45      M   20000\n",
      "3  Lakshmi   30      F   10000\n"
     ]
    }
   ],
   "source": [
    "# filtering method\n",
    "filtered_data=df[df[\"Age\"]>=30]\n",
    "print(\"After filtering:\")\n",
    "print(filtered_data)"
   ]
  },
  {
   "cell_type": "code",
   "execution_count": 39,
   "id": "3a5ad91f",
   "metadata": {},
   "outputs": [
    {
     "name": "stdout",
     "output_type": "stream",
     "text": [
      "      Name  Age Gender  Salary\n",
      "3  Lakshmi   30      F   10000\n",
      "1    Maara   45      M   20000\n",
      "2    Deepa   21      F   40000\n",
      "0     Sugu   21      M   50000\n"
     ]
    }
   ],
   "source": [
    "# sorting values\n",
    "#ascending order\n",
    "sorted_df=df.sort_values(by=\"Salary\")\n",
    "print(sorted_df)"
   ]
  },
  {
   "cell_type": "code",
   "execution_count": 38,
   "id": "f6fa0c55",
   "metadata": {},
   "outputs": [
    {
     "name": "stdout",
     "output_type": "stream",
     "text": [
      "      Name  Age Gender  Salary\n",
      "0     Sugu   21      M   50000\n",
      "2    Deepa   21      F   40000\n",
      "1    Maara   45      M   20000\n",
      "3  Lakshmi   30      F   10000\n"
     ]
    }
   ],
   "source": [
    "#descending order\n",
    "sorted_df1=df.sort_values(by=\"Salary\",ascending=False)\n",
    "print(sorted_df1)"
   ]
  },
  {
   "cell_type": "code",
   "execution_count": 13,
   "id": "cab6fab3",
   "metadata": {},
   "outputs": [
    {
     "name": "stdout",
     "output_type": "stream",
     "text": [
      "         Age  Salary\n",
      "Gender              \n",
      "F       25.5   50000\n",
      "M       33.0   70000\n"
     ]
    }
   ],
   "source": [
    "#grouping\n",
    "grouped_df=df.groupby('Gender').agg({'Age':'mean','Salary':'sum'})\n",
    "print(grouped_df)"
   ]
  },
  {
   "cell_type": "code",
   "execution_count": 15,
   "id": "2c8b6795",
   "metadata": {},
   "outputs": [
    {
     "name": "stdout",
     "output_type": "stream",
     "text": [
      "         Age  Salary\n",
      "Gender              \n",
      "F       25.5   40000\n",
      "M       33.0   50000\n"
     ]
    }
   ],
   "source": [
    "grouped_df1=df.groupby('Gender').agg({'Age':'median','Salary':'max'})\n",
    "print(grouped_df1)"
   ]
  },
  {
   "cell_type": "code",
   "execution_count": 17,
   "id": "24e4e3f4",
   "metadata": {
    "scrolled": true
   },
   "outputs": [
    {
     "name": "stdout",
     "output_type": "stream",
     "text": [
      "Name      Deepa  Lakshmi    Maara     Sugu\n",
      "Gender                                    \n",
      "F       40000.0  10000.0      NaN      NaN\n",
      "M           NaN      NaN  20000.0  50000.0\n"
     ]
    }
   ],
   "source": [
    "# reshaping\n",
    "reshaped_df=df.pivot_table(index='Gender',columns='Name',values='Salary')\n",
    "print(reshaped_df)"
   ]
  },
  {
   "cell_type": "code",
   "execution_count": 20,
   "id": "6945c2f7",
   "metadata": {},
   "outputs": [
    {
     "data": {
      "text/html": [
       "<div>\n",
       "<style scoped>\n",
       "    .dataframe tbody tr th:only-of-type {\n",
       "        vertical-align: middle;\n",
       "    }\n",
       "\n",
       "    .dataframe tbody tr th {\n",
       "        vertical-align: top;\n",
       "    }\n",
       "\n",
       "    .dataframe thead th {\n",
       "        text-align: right;\n",
       "    }\n",
       "</style>\n",
       "<table border=\"1\" class=\"dataframe\">\n",
       "  <thead>\n",
       "    <tr style=\"text-align: right;\">\n",
       "      <th></th>\n",
       "      <th>Name</th>\n",
       "      <th>Age</th>\n",
       "      <th>Gender</th>\n",
       "      <th>Salary</th>\n",
       "      <th>Salary_adjusted</th>\n",
       "    </tr>\n",
       "  </thead>\n",
       "  <tbody>\n",
       "    <tr>\n",
       "      <th>0</th>\n",
       "      <td>Sugu</td>\n",
       "      <td>21</td>\n",
       "      <td>M</td>\n",
       "      <td>50000</td>\n",
       "      <td>100000</td>\n",
       "    </tr>\n",
       "    <tr>\n",
       "      <th>1</th>\n",
       "      <td>Maara</td>\n",
       "      <td>45</td>\n",
       "      <td>M</td>\n",
       "      <td>20000</td>\n",
       "      <td>40000</td>\n",
       "    </tr>\n",
       "    <tr>\n",
       "      <th>2</th>\n",
       "      <td>Deepa</td>\n",
       "      <td>21</td>\n",
       "      <td>F</td>\n",
       "      <td>40000</td>\n",
       "      <td>80000</td>\n",
       "    </tr>\n",
       "    <tr>\n",
       "      <th>3</th>\n",
       "      <td>Lakshmi</td>\n",
       "      <td>30</td>\n",
       "      <td>F</td>\n",
       "      <td>10000</td>\n",
       "      <td>20000</td>\n",
       "    </tr>\n",
       "  </tbody>\n",
       "</table>\n",
       "</div>"
      ],
      "text/plain": [
       "      Name  Age Gender  Salary  Salary_adjusted\n",
       "0     Sugu   21      M   50000           100000\n",
       "1    Maara   45      M   20000            40000\n",
       "2    Deepa   21      F   40000            80000\n",
       "3  Lakshmi   30      F   10000            20000"
      ]
     },
     "execution_count": 20,
     "metadata": {},
     "output_type": "execute_result"
    }
   ],
   "source": [
    "#transforming\n",
    "df['Salary_adjusted']=df['Salary']*2\n",
    "df"
   ]
  },
  {
   "cell_type": "code",
   "execution_count": null,
   "id": "82a8f964",
   "metadata": {},
   "outputs": [],
   "source": []
  }
 ],
 "metadata": {
  "kernelspec": {
   "display_name": "Python 3 (ipykernel)",
   "language": "python",
   "name": "python3"
  },
  "language_info": {
   "codemirror_mode": {
    "name": "ipython",
    "version": 3
   },
   "file_extension": ".py",
   "mimetype": "text/x-python",
   "name": "python",
   "nbconvert_exporter": "python",
   "pygments_lexer": "ipython3",
   "version": "3.10.9"
  }
 },
 "nbformat": 4,
 "nbformat_minor": 5
}
